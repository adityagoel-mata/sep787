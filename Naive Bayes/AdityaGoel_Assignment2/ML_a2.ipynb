{
  "cells": [
    {
      "cell_type": "code",
      "execution_count": 1,
      "metadata": {
        "id": "kh8Q7r0vRiGm"
      },
      "outputs": [
        {
          "data": {
            "text/plain": [
              "\"\\nAuthor: Aditya Goel 400414715, MEST'21, McMaster University\\nSEP787: Machine Learning: Classification Models\\nAssignment 2\\nReferences: \\n1. Dr. Jeff Fortuna's SEP 787 Lecture Notes\\n\""
            ]
          },
          "execution_count": 1,
          "metadata": {},
          "output_type": "execute_result"
        }
      ],
      "source": [
        "\"\"\"\n",
        "Author: Aditya Goel 400414715, MEST'21, McMaster University\n",
        "SEP787: Machine Learning: Classification Models\n",
        "Assignment 2\n",
        "References: \n",
        "1. Dr. Jeff Fortuna's SEP 787 Lecture Notes\n",
        "\"\"\""
      ]
    },
    {
      "cell_type": "markdown",
      "metadata": {
        "id": "VTQ7RHBaiWLH"
      },
      "source": [
        "**Import Libraries**"
      ]
    },
    {
      "cell_type": "code",
      "execution_count": 2,
      "metadata": {
        "id": "8wFEaPeAiTVg"
      },
      "outputs": [],
      "source": [
        "import warnings\n",
        "import numpy as np\n",
        "import pandas as pd\n",
        "from scipy.stats import norm\n",
        "import matplotlib.pyplot as plt\n",
        "warnings.filterwarnings('ignore')"
      ]
    },
    {
      "cell_type": "markdown",
      "metadata": {
        "id": "K4-k4nBZiaM9"
      },
      "source": [
        "**Import Dataset**"
      ]
    },
    {
      "cell_type": "code",
      "execution_count": 3,
      "metadata": {
        "id": "I-HEymbkiYSH"
      },
      "outputs": [],
      "source": [
        "df = pd.read_excel('training.xlsx')\n",
        "len = len(df)"
      ]
    },
    {
      "cell_type": "markdown",
      "metadata": {
        "id": "1-y59j6wimBJ"
      },
      "source": [
        "**Initialize Probability Variables**"
      ]
    },
    {
      "cell_type": "code",
      "execution_count": 4,
      "metadata": {
        "id": "9BQvfkA2ikA7"
      },
      "outputs": [],
      "source": [
        "count_universities = 0                                                          #Count of total universities\n",
        "count_public = 0                                                                #Count of total public universities\n",
        "count_private = 0                                                               #Count of total private universities\n",
        "count_state = np.zeros((3,2))                                                   #Count of different states\n",
        "rating_acad = np.zeros((5,2))                                                   #Count of different academic ratings\n",
        "rating_social = np.zeros((5,2))                                                 #Count of different social ratings\n",
        "rating_QoL = np.zeros((5,2))                                                    #Count of different QoL ratings  "
      ]
    },
    {
      "cell_type": "markdown",
      "metadata": {
        "id": "tK2gQfw61GUQ"
      },
      "source": [
        "**Function to convert University states to numeric values**"
      ]
    },
    {
      "cell_type": "code",
      "execution_count": 5,
      "metadata": {
        "id": "V89NmE9H1FzJ"
      },
      "outputs": [],
      "source": [
        "def state_to_number(i):\n",
        "  dict = {\"New York\": 1, \"Massachusetts\": 2, \"California\": 3}\n",
        "  state = df[\"University State\"][i]\n",
        "  df[\"University State\"][i] = dict.get(state)                                   #Replace state with its numeric value    "
      ]
    },
    {
      "cell_type": "markdown",
      "metadata": {
        "id": "D7MgHFxjitLw"
      },
      "source": [
        "**Function to assign data to variables**"
      ]
    },
    {
      "cell_type": "code",
      "execution_count": 6,
      "metadata": {
        "id": "C21SQ4zXisTs"
      },
      "outputs": [],
      "source": [
        "def assign_data(count, class_index, i):\n",
        "  count = count+1\n",
        "\n",
        "  acad_value = df[\"Acads\"][i]\n",
        "  rating_acad[acad_value-1][class_index]= rating_acad[acad_value-1][class_index] + 1            #increment private Acads index by 1\n",
        "\n",
        "  social_value = df[\"Social\"][i]\n",
        "  rating_social[social_value-1][class_index]= rating_social[social_value-1][class_index] + 1    #increment private Social index by 1\n",
        "\n",
        "  QoL_value = df[\"Quality of Life\"][i]\n",
        "  rating_QoL[QoL_value-1][class_index]= rating_QoL[QoL_value-1][class_index] + 1                #increment private QoL index by 1\n",
        "\n",
        "  state_value = df[\"University State\"][i]\n",
        "  count_state[state_value-1][class_index]= count_state[state_value-1][class_index] + 1          #increment state index by 1\n",
        "\n",
        "  return [count, rating_acad, rating_social, rating_QoL, count_state]"
      ]
    },
    {
      "cell_type": "markdown",
      "metadata": {
        "id": "tilLhs8f3DU-"
      },
      "source": [
        "**Function to obtain marginal probabilities for discrete variables**"
      ]
    },
    {
      "cell_type": "code",
      "execution_count": 7,
      "metadata": {
        "id": "7SwytrOp3Hf4"
      },
      "outputs": [],
      "source": [
        "def get_marginal_prob(feature, rating):\n",
        "  rating[:,0] = rating[:,0]/ count_public                                       #Obtain Marginal probabilities for Class = Public\n",
        "  rating[:,1] = rating[:,1]/count_private                                       #Obtain Marginal probabilities for Class = Private    \n",
        "  print(\"\\n\" + feature + \"(Public, Private) probability is: \\n\", rating)\n",
        "  return rating"
      ]
    },
    {
      "cell_type": "markdown",
      "metadata": {
        "id": "QoQdHeBAi9zW"
      },
      "source": [
        "**Function to calculate Mean and sd for continuous variables**"
      ]
    },
    {
      "cell_type": "code",
      "execution_count": 8,
      "metadata": {
        "id": "VabsymTli8mX"
      },
      "outputs": [],
      "source": [
        "def params_normalDist(sat_section, university_class):\n",
        "  mean = np.mean(df[sat_section][df[\"Type\"]==university_class])                 #Calculate Mean\n",
        "  sd = np.std(df[sat_section][df[\"Type\"]==university_class])                    #Calculate Standarad Deviation\n",
        "  return [mean, sd]"
      ]
    },
    {
      "cell_type": "markdown",
      "metadata": {
        "id": "qH91Xp71a7Gl"
      },
      "source": [
        "**Function to create Normal Distribution**"
      ]
    },
    {
      "cell_type": "code",
      "execution_count": 9,
      "metadata": {
        "id": "pTlYtebWa_iD"
      },
      "outputs": [],
      "source": [
        "def normalDist(x, mean, sd):     \n",
        "  var = sd**2\n",
        "  numerator = np.exp((-1/2)*((x-mean)**2) / (2 * var))\n",
        "  denominator = np.sqrt(2 * np.pi * var)\n",
        "  prob = numerator / denominator                                                #Formula for Normal Distribution pdf\n",
        "  return prob    "
      ]
    },
    {
      "cell_type": "markdown",
      "metadata": {
        "id": "JVlhd8l-jF6n"
      },
      "source": [
        "**Function to calculate probabilities for Test set**"
      ]
    },
    {
      "cell_type": "code",
      "execution_count": 10,
      "metadata": {
        "id": "2BhuekxHjFTK"
      },
      "outputs": [],
      "source": [
        "def prob_given_params(state, sat_v, sat_m, rate_acad, rate_social, rate_QoL):\n",
        "\n",
        "  prob_uni_array = [0, 0]\n",
        "  prob_class = [prob_public, prob_private]\n",
        "\n",
        "  for i in range(2):\n",
        "    prob_state = state_prob[state-1,i]\n",
        "    prob_sat_v = normalDist(sat_v, mean[i][0], sd[i][0])\n",
        "    prob_sat_m = normalDist(sat_m, mean[i][1], sd[i][1])\n",
        "    prob_acad = acad_prob[rate_acad-1,i]\n",
        "    prob_social = social_prob[rate_social-1,i]\n",
        "    prob_QoL = QoL_prob[rate_QoL-1,i]\n",
        "    \n",
        "    prob_uni_array[i] = prob_class[i] * prob_state * prob_sat_v * prob_sat_m * prob_acad * prob_social * prob_QoL\n",
        "\n",
        "    # print(prob_state, prob_acad, prob_social, prob_QoL)\n",
        "\n",
        "  # print(prob_uni_array)\n",
        "  return prob_uni_array"
      ]
    },
    {
      "cell_type": "markdown",
      "metadata": {
        "id": "kE5Og_18jTFl"
      },
      "source": [
        "**Function to Classify and print result**"
      ]
    },
    {
      "cell_type": "code",
      "execution_count": 11,
      "metadata": {
        "id": "dJnzIkeHifm8"
      },
      "outputs": [],
      "source": [
        "def classification(uni_name, prob_uni_array):\n",
        "  if (prob_uni_array[0] > prob_uni_array[1]): \n",
        "    print(uni_name + \"Public\")\n",
        "    y_pred.append(\"Public\")\n",
        "  if (prob_uni_array[0] < prob_uni_array[1]): \n",
        "    print(uni_name + \"Private\")\n",
        "    y_pred.append(\"Private\")\n",
        "  if (prob_uni_array[0] == prob_uni_array[1]): \n",
        "    print(uni_name + \"Cannot be classified\")\n",
        "    y_pred.append(\"NA\")"
      ]
    },
    {
      "cell_type": "markdown",
      "metadata": {
        "id": "Cz73-H3g0aOj"
      },
      "source": [
        "***Main Function***"
      ]
    },
    {
      "cell_type": "code",
      "execution_count": 12,
      "metadata": {
        "id": "z37dh63S0fkG"
      },
      "outputs": [
        {
          "name": "stdout",
          "output_type": "stream",
          "text": [
            "\n",
            "Acads(Public, Private) probability is: \n",
            " [[0.  0. ]\n",
            " [0.1 0.1]\n",
            " [0.3 0. ]\n",
            " [0.5 0.4]\n",
            " [0.1 0.5]]\n",
            "\n",
            "Social(Public, Private) probability is: \n",
            " [[0.  0.1]\n",
            " [0.3 0.1]\n",
            " [0.5 0.4]\n",
            " [0.2 0.3]\n",
            " [0.  0.1]]\n",
            "\n",
            "QoL(Public, Private) probability is: \n",
            " [[0.  0. ]\n",
            " [0.3 0.1]\n",
            " [0.5 0.6]\n",
            " [0.2 0.2]\n",
            " [0.  0.1]]\n",
            "\n",
            "State(Public, Private) probability is: \n",
            " [[0.4 0.2]\n",
            " [0.2 0.5]\n",
            " [0.4 0.3]]\n",
            "\n",
            "Mean [(v_public m_public), (v_private m_private)] is:  [[496.2, 542.0], [582.5, 621.5]]\n",
            "SD [(v_public m_public), (v_private m_private)] is:  [[35.12776679494443, 45.34313619501854], [73.35700375560604, 94.86964741159314]]\n"
          ]
        }
      ],
      "source": [
        "#Obtain values of different variables\n",
        "\n",
        "for i in range(len):\n",
        "  count_universities = count_universities + 1                                 \n",
        "  state_to_number(i)\n",
        "  if (df[\"Type\"][i]==\"public\"):\n",
        "    [count_public, rating_acad, rating_social, rating_QoL, count_state] = assign_data(count_public, 0, i)\n",
        "  if (df[\"Type\"][i]==\"private\"):\n",
        "    [count_private, rating_acad, rating_social, rating_QoL, count_state] = assign_data(count_private, 1, i)\n",
        "\n",
        "#Obtain Marginal Probabilities for Discrete Variables\n",
        "\n",
        "prob_public = count_public/count_universities\n",
        "prob_private = count_private/count_universities\n",
        "acad_prob = get_marginal_prob(\"Acads\", rating_acad)\n",
        "social_prob = get_marginal_prob(\"Social\", rating_social)\n",
        "QoL_prob = get_marginal_prob(\"QoL\", rating_QoL)\n",
        "state_prob = get_marginal_prob(\"State\", count_state)\n",
        "\n",
        "#Obtain Mean and Standard Deviations for Continuous Variables\n",
        "\n",
        "[sat_v_public_mean, sat_v_public_sd] = params_normalDist(\"SAT (verbal)\", \"public\")\n",
        "[sat_v_private_mean, sat_v_private_sd] = params_normalDist(\"SAT (verbal)\", \"private\")\n",
        "[sat_m_public_mean, sat_m_public_sd] = params_normalDist(\"SAT (math)\", \"public\")\n",
        "[sat_m_private_mean, sat_m_private_sd] = params_normalDist(\"SAT (math)\", \"private\")\n",
        "\n",
        "mean = [[sat_v_public_mean, sat_m_public_mean], [sat_v_private_mean, sat_m_private_mean]]\n",
        "sd = [[sat_v_public_sd, sat_m_public_sd],[sat_v_private_sd, sat_m_private_sd]]\n",
        "\n",
        "print(\"\\nMean [(v_public m_public), (v_private m_private)] is: \", mean)\n",
        "print(\"SD [(v_public m_public), (v_private m_private)] is: \", sd)\n"
      ]
    },
    {
      "cell_type": "markdown",
      "metadata": {
        "id": "R7Os23WbjZR4"
      },
      "source": [
        "**Test**"
      ]
    },
    {
      "cell_type": "code",
      "execution_count": 13,
      "metadata": {
        "id": "MwotrA8ejX40"
      },
      "outputs": [
        {
          "name": "stdout",
          "output_type": "stream",
          "text": [
            "The University of Albany is: Public\n",
            "Syracruse University is: Private\n",
            "The University of Tufts is: Private\n",
            "Golden Gate College: Cannot be classified\n",
            "San Jose University: Public\n",
            "y_pred array is:  ['Public', 'Private', 'Private', 'NA', 'Public']\n"
          ]
        }
      ],
      "source": [
        "#Classification on Test Set\n",
        "y_pred = []\n",
        "\n",
        "prob_Albany_array = prob_given_params(1, 525, 575, 4, 3, 3)\n",
        "classification(\"The University of Albany is: \", prob_Albany_array)\n",
        "\n",
        "prob_Syaracruse_array = prob_given_params(1, 600, 600, 4, 4, 4)\n",
        "classification(\"Syracruse University is: \", prob_Syaracruse_array)\n",
        "\n",
        "prob_Tufts_array = prob_given_params(1, 580, 620, 4, 4, 4)\n",
        "classification(\"The University of Tufts is: \", prob_Tufts_array)\n",
        "\n",
        "prob_GGC_array = prob_given_params(2, 500, 500, 2, 1, 1)\n",
        "classification(\"Golden Gate College: \", prob_GGC_array)\n",
        "\n",
        "prob_SJS_array = prob_given_params(2, 425, 565, 4, 2, 3)\n",
        "classification(\"San Jose University: \", prob_SJS_array)\n",
        "\n",
        "print(\"y_pred array is: \", y_pred)"
      ]
    },
    {
      "cell_type": "markdown",
      "metadata": {
        "id": "lEP4isMJkXk1"
      },
      "source": [
        "**Confusion Matrix**"
      ]
    },
    {
      "cell_type": "code",
      "execution_count": 14,
      "metadata": {
        "id": "Mlhxv7R8kasb"
      },
      "outputs": [
        {
          "name": "stdout",
          "output_type": "stream",
          "text": [
            "[[0 0 0]\n",
            " [1 2 0]\n",
            " [0 0 2]]\n"
          ]
        },
        {
          "data": {
            "text/plain": [
              "<AxesSubplot:>"
            ]
          },
          "execution_count": 14,
          "metadata": {},
          "output_type": "execute_result"
        },
        {
          "data": {
            "image/png": "[encoded data removed]",
            "text/plain": [
              "<Figure size 432x288 with 1 Axes>"
            ]
          },
          "metadata": {
            "needs_background": "light"
          },
          "output_type": "display_data"
        }
      ],
      "source": [
        "from sklearn.metrics import confusion_matrix\n",
        "\n",
        "y_actual = [\"Public\", \"Private\", \"Private\", \"Private\", \"Public\"]\n",
        "conf_matrix = confusion_matrix(y_actual, y_pred)\n",
        "print(conf_matrix)\n",
        "\n",
        "import seaborn as sn\n",
        "plot_cm = pd.DataFrame(conf_matrix, index = [i for i in [\"NA\", \"Private\", \"Public\"]], columns = [i for i in [\"NA\", \"Private\", \"Public\"]])\n",
        "sn.heatmap(plot_cm, annot=True, linewidths=2, linecolor='white', cbar=False)"
      ]
    }
  ],
  "metadata": {
    "colab": {
      "collapsed_sections": [],
      "name": "ML_a2",
      "provenance": []
    },
    "kernelspec": {
      "display_name": "Python 3",
      "name": "python3"
    },
    "language_info": {
      "codemirror_mode": {
        "name": "ipython",
        "version": 3
      },
      "file_extension": ".py",
      "mimetype": "text/x-python",
      "name": "python",
      "nbconvert_exporter": "python",
      "pygments_lexer": "ipython3",
      "version": "3.8.8"
    }
  },
  "nbformat": 4,
  "nbformat_minor": 0
}
