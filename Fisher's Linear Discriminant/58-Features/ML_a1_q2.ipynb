{
  "cells": [
    {
      "cell_type": "code",
      "execution_count": 26,
      "metadata": {
        "colab": {
          "base_uri": "https://localhost:8080/",
          "height": 52
        },
        "id": "ildS0Q5DLv77",
        "outputId": "aac6d564-8311-4ace-97c3-b43e81224a18"
      },
      "outputs": [
        {
          "data": {
            "text/plain": [
              "\"\\nAuthor: Aditya Goel 400414715, MEST'21, McMaster University\\nSEP787: Machine Learning: Classification Models\\nAssignment 1 - Question 2\\nReferences: \\n1. Dr. Jeff Fortuna's SEP 787 Lecture Notes\\n2. https://scikit-learn.org/\\n\""
            ]
          },
          "execution_count": 26,
          "metadata": {},
          "output_type": "execute_result"
        }
      ],
      "source": [
        "\"\"\"\n",
        "Author: Aditya Goel 400414715, MEST'21, McMaster University\n",
        "SEP787: Machine Learning: Classification Models\n",
        "Assignment 1 - Question 2\n",
        "References: \n",
        "1. Dr. Jeff Fortuna's SEP 787 Lecture Notes\n",
        "2. https://scikit-learn.org/\n",
        "\"\"\"\n"
      ]
    },
    {
      "cell_type": "markdown",
      "metadata": {
        "id": "9nERdwKUL4gS"
      },
      "source": [
        "**Import Libraries**"
      ]
    },
    {
      "cell_type": "code",
      "execution_count": 27,
      "metadata": {
        "id": "RDMYjHipL2PN"
      },
      "outputs": [],
      "source": [
        "import numpy as np\n",
        "import pandas as pd\n",
        "import matplotlib.pyplot as plt\n",
        "from sklearn.discriminant_analysis import LinearDiscriminantAnalysis\n",
        "from sklearn.metrics import accuracy_score, confusion_matrix"
      ]
    },
    {
      "cell_type": "markdown",
      "metadata": {
        "id": "TiFOq-b3L-Pm"
      },
      "source": [
        "**Function to import dataset**"
      ]
    },
    {
      "cell_type": "code",
      "execution_count": 28,
      "metadata": {
        "id": "NK2lsZOrL9B6"
      },
      "outputs": [],
      "source": [
        "def import_dataset(file):\n",
        "  df = pd.read_excel(file)\n",
        "  len_df = len(df)\n",
        "  class1 = df[df['Column58'] == 1]        #Dataset with label=1\n",
        "  class2 = df[df['Column58'] == 0]        #Dataset with label=0\n",
        "  X = df.iloc[:,:-1]                      #Data points\n",
        "  y = df['Column58']                      #Labels      \n",
        "\n",
        "  return [df, len_df, class1, class2, X, y]"
      ]
    },
    {
      "cell_type": "markdown",
      "metadata": {
        "id": "sSg9r92-P-b5"
      },
      "source": [
        "# **Prof's Method**"
      ]
    },
    {
      "cell_type": "markdown",
      "metadata": {
        "id": "TP5zrS2jQKbo"
      },
      "source": [
        "**Function to obtain mean subtracted data**\n"
      ]
    },
    {
      "cell_type": "code",
      "execution_count": 29,
      "metadata": {
        "id": "yxQUIQpWQJU7"
      },
      "outputs": [],
      "source": [
        "def mean_subtracted_matrix(data):\n",
        "  mean = np.mean(data, axis = 0)                                                #Mean of data points\n",
        "  mean_subtracted_data = data - mean                                            #Obtain mean subtracted data\n",
        "  data_submatrix = mean_subtracted_data.iloc[:,:-1]                             #Extract submatrix\n",
        "  return [data_submatrix, mean]"
      ]
    },
    {
      "cell_type": "markdown",
      "metadata": {
        "id": "zvfKyBDvQge0"
      },
      "source": [
        "**Function to obtain the Covariance Matrix**"
      ]
    },
    {
      "cell_type": "code",
      "execution_count": 30,
      "metadata": {
        "id": "Nnfe5n6zP8_q"
      },
      "outputs": [],
      "source": [
        "def covariance(x):\n",
        "  s = np.dot(x.T,x)                                                             #Obtains Covariance Matrix\n",
        "  return s"
      ]
    },
    {
      "cell_type": "markdown",
      "metadata": {
        "id": "9sMPsXN_WpQT"
      },
      "source": [
        "**Function to calculate metric - Accuracy, Error and Confusion Matrix**"
      ]
    },
    {
      "cell_type": "code",
      "execution_count": 31,
      "metadata": {
        "id": "msggPtzAWWTT"
      },
      "outputs": [],
      "source": [
        "def obtain_metric(w, X, y, threshold):\n",
        "  predictions = (np.sign(np.dot(w,X.T) + threshold) + 1)/2\n",
        "  error = sum(predictions != y)\n",
        "  accuracy = 100*(len(df)-error)/len(df)\n",
        "  conf_matrix = confusion_matrix(y, predictions)\n",
        "  errorIndex = np.argwhere(pd.Series.to_numpy(predictions != y))  \n",
        "  # print(\"The error Indices are: \", errorIndex.T)                  #Too long print. Hides other outputs\n",
        "\n",
        "  return [accuracy, error, conf_matrix]"
      ]
    },
    {
      "cell_type": "markdown",
      "metadata": {
        "id": "9vXi5MH5Z2cT"
      },
      "source": [
        "**Function to Print Metrics**"
      ]
    },
    {
      "cell_type": "code",
      "execution_count": 32,
      "metadata": {
        "id": "YOr2pxRNZ6oA"
      },
      "outputs": [],
      "source": [
        "def print_metric(accuracy, error, conf_matrix):\n",
        "  print(\"\\nThe percentage of data that is classified incorrectly is: \\n\", error*100/len(df))\n",
        "  print(\"\\nThe confusion matrix is: \\n\", conf_matrix)\n",
        "  print(\"\\nNo. of misclassified data points whose actual class is 1 is: \", conf_matrix[1][0])\n",
        "  print(\"No. of misclassified data points whose actual class is 0 is: \", conf_matrix[0][1])\n",
        "  print(\"Accuracy: \", accuracy)\n"
      ]
    },
    {
      "cell_type": "markdown",
      "metadata": {
        "id": "Dijs-4GQIHl_"
      },
      "source": [
        "**Function to obtain optimum threshold**"
      ]
    },
    {
      "cell_type": "code",
      "execution_count": 33,
      "metadata": {
        "id": "3pQEJA9PQjWm"
      },
      "outputs": [],
      "source": [
        "def optimum_threshold(w, X, y):\n",
        "  threshold_list = np.arange(-0.01, 0.01, 0.0005)\n",
        "  accuracy_list = []\n",
        "  \n",
        "  for threshold in threshold_list:\n",
        "    [accuracy, error, conf_matrix] = obtain_metric(w, X, y, threshold)\n",
        "    accuracy_list.append(accuracy)\n",
        "    \n",
        "  plt.plot(threshold_list, accuracy_list)\n",
        "  plt.xlabel(\"Threshold\")\n",
        "  plt.ylabel(\"Accuracy\")\n",
        "  plt.show()\n",
        "  \n",
        "  index = accuracy_list.index(max(accuracy_list))\n",
        "  optimum_threshold = threshold_list[index]\n",
        "  print(\"Max accuracy is: \", max(accuracy_list))\n",
        "  print(\"Optimal threshold is: \", optimum_threshold)\n",
        "\n",
        "  return optimum_threshold"
      ]
    },
    {
      "cell_type": "markdown",
      "metadata": {
        "id": "FBzM1kM17Mix"
      },
      "source": [
        "# **Main Function**"
      ]
    },
    {
      "cell_type": "code",
      "execution_count": 34,
      "metadata": {
        "colab": {
          "base_uri": "https://localhost:8080/",
          "height": 834
        },
        "id": "QOYOrJcL5Jon",
        "outputId": "a01bbfa1-d407-46c6-9859-4e8d727789cf"
      },
      "outputs": [
        {
          "name": "stdout",
          "output_type": "stream",
          "text": [
            "Results with threshold=0\n",
            "\n",
            "\n",
            "The percentage of data that is classified incorrectly is: \n",
            " 18.3\n",
            "\n",
            "The confusion matrix is: \n",
            " [[319 181]\n",
            " [  2 498]]\n",
            "\n",
            "No. of misclassified data points whose actual class is 1 is:  2\n",
            "No. of misclassified data points whose actual class is 0 is:  181\n",
            "Accuracy:  81.7\n",
            "\n",
            "Calculating the optimum threshold\n",
            "\n"
          ]
        },
        {
          "data": {
            "image/png": "[encoded data removed]",
            "text/plain": [
              "<Figure size 432x288 with 1 Axes>"
            ]
          },
          "metadata": {
            "needs_background": "light"
          },
          "output_type": "display_data"
        },
        {
          "name": "stdout",
          "output_type": "stream",
          "text": [
            "Max accuracy is:  92.0\n",
            "Optimal threshold is:  -0.0024999999999999935\n",
            "\n",
            "Results with optimum threshold\n",
            "\n",
            "\n",
            "The percentage of data that is classified incorrectly is: \n",
            " 8.0\n",
            "\n",
            "The confusion matrix is: \n",
            " [[458  42]\n",
            " [ 38 462]]\n",
            "\n",
            "No. of misclassified data points whose actual class is 1 is:  38\n",
            "No. of misclassified data points whose actual class is 0 is:  42\n",
            "Accuracy:  92.0\n"
          ]
        }
      ],
      "source": [
        "[df, len_df, class1, class2, X, y] = import_dataset('spam.xlsx')                #Import Dataset\n",
        "\n",
        "[x1mc, mean1] = mean_subtracted_matrix(class1)\n",
        "[x2mc, mean2] = mean_subtracted_matrix(class2)\n",
        "S1 = covariance(x1mc)\n",
        "S2 = covariance(x2mc)\n",
        "\n",
        "Sw = S1+S2                                                                      \n",
        "\n",
        "w = np.dot(np.linalg.inv(Sw), (mean1 - mean2)[0:57])                            #Obtain FLD's weights\n",
        "# print(\"Weights are:\", w)\n",
        "\n",
        "print(\"Results with threshold=0\\n\")\n",
        "threshold = 0                                                                   #Results with threshold = 0\n",
        "[accuracy, error, conf_matrix] = obtain_metric(w, X, y, threshold)\n",
        "print_metric(accuracy, error, conf_matrix)\n",
        "\n",
        "print(\"\\nCalculating the optimum threshold\\n\")\n",
        "optimum_threshold = optimum_threshold(w,X,y)                                    #Results with optimum threshold\n",
        "\n",
        "print(\"\\nResults with optimum threshold\\n\")\n",
        "[accuracy, error, conf_matrix] = obtain_metric(w, X, y, optimum_threshold)\n",
        "print_metric(accuracy, error, conf_matrix)\n"
      ]
    },
    {
      "cell_type": "markdown",
      "metadata": {
        "id": "Z8lGQF5mMJEJ"
      },
      "source": [
        "# **sklearn method**"
      ]
    },
    {
      "cell_type": "code",
      "execution_count": 35,
      "metadata": {
        "id": "kBZb_ooRMF29"
      },
      "outputs": [],
      "source": [
        "clf = LinearDiscriminantAnalysis()\n",
        "clf.fit(X, y)\n",
        "\n",
        "w = clf.coef_[0]                        #Returns the weights for the 2 axis (i.e w = [a b] in ax1 + bx2 + c = 0)\n",
        "c = clf.intercept_[0]                   #Returns the threshold (i.e c in ax1 + bx2 + c = 0)"
      ]
    },
    {
      "cell_type": "markdown",
      "metadata": {
        "id": "UWlZtFqXPOAz"
      },
      "source": [
        "**Obtain Threshold from sklearn**"
      ]
    },
    {
      "cell_type": "code",
      "execution_count": 36,
      "metadata": {
        "colab": {
          "base_uri": "https://localhost:8080/"
        },
        "id": "t796v3f2MC1Y",
        "outputId": "d2232afa-9d75-439a-9da5-3184c04cb821"
      },
      "outputs": [
        {
          "name": "stdout",
          "output_type": "stream",
          "text": [
            "Sklearn's threshold is:  -2.550843568413452\n"
          ]
        }
      ],
      "source": [
        "threshold = clf.intercept_[0] \n",
        "# print(\"Sklearn's weights are: \", w)\n",
        "print(\"Sklearn's threshold is: \", threshold)"
      ]
    },
    {
      "cell_type": "markdown",
      "metadata": {
        "id": "rJnuTHbAPV1S"
      },
      "source": [
        "**Metrics - Accuracy, Error, Confusion Matrix**"
      ]
    },
    {
      "cell_type": "code",
      "execution_count": 37,
      "metadata": {
        "colab": {
          "base_uri": "https://localhost:8080/"
        },
        "id": "X2-rUqmAPb_k",
        "outputId": "6b2a96c9-5733-4a77-8d12-c3d388394349"
      },
      "outputs": [
        {
          "name": "stdout",
          "output_type": "stream",
          "text": [
            "The error Indices are:  [[ 20  24  26  30  57  60  84  89 109 111 113 184 195 216 217 233 235 236\n",
            "  250 272 294 306 308 321 323 324 325 333 347 351 375 391 395 407 444 460\n",
            "  464 468 478 482 496 500 509 520 527 530 540 548 549 573 574 587 611 618\n",
            "  625 628 653 661 671 672 685 700 741 755 762 772 776 781 800 809 824 868\n",
            "  890 915 925 944 946 980 991 992 993 999]]\n",
            "The percentage of data that is classified incorrectly is:  8.199999999999996\n",
            "\n",
            "The confusion matrix is: \n",
            " [[459  41]\n",
            " [ 41 459]]\n",
            "\n",
            "No. of misclassified data points whose actual class is 1 is:  41\n",
            "No. of misclassified data points whose actual class is 0 is:  41\n",
            "Accuracy is:  91.8\n"
          ]
        }
      ],
      "source": [
        "pred_y = clf.predict(X)\n",
        "accuracy = accuracy_score(y,pred_y)\n",
        "error = 1-accuracy\n",
        "conf_matrix = confusion_matrix(y, pred_y)\n",
        "errorIndex = np.argwhere(pd.Series.to_numpy(pred_y != y))  \n",
        "print(\"The error Indices are: \", errorIndex.T)\n",
        "\n",
        "print(\"The percentage of data that is classified incorrectly is: \", error*100)\n",
        "print(\"\\nThe confusion matrix is: \\n\", conf_matrix)\n",
        "print(\"\\nNo. of misclassified data points whose actual class is 1 is: \", conf_matrix[1][0])\n",
        "print(\"No. of misclassified data points whose actual class is 0 is: \", conf_matrix[0][1])\n",
        "print(\"Accuracy is: \", accuracy*100)"
      ]
    }
  ],
  "metadata": {
    "colab": {
      "name": "ML_a1_q2",
      "provenance": []
    },
    "kernelspec": {
      "display_name": "Python 3",
      "name": "python3"
    },
    "language_info": {
      "codemirror_mode": {
        "name": "ipython",
        "version": 3
      },
      "file_extension": ".py",
      "mimetype": "text/x-python",
      "name": "python",
      "nbconvert_exporter": "python",
      "pygments_lexer": "ipython3",
      "version": "3.8.8"
    }
  },
  "nbformat": 4,
  "nbformat_minor": 0
}
