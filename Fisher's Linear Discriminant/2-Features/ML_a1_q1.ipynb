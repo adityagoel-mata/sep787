{
  "cells": [
    {
      "cell_type": "code",
      "execution_count": 194,
      "metadata": {
        "colab": {
          "base_uri": "https://localhost:8080/",
          "height": 52
        },
        "id": "9Ux4dVftProI",
        "outputId": "ce701e44-4420-462c-be71-143ef6f8e931"
      },
      "outputs": [
        {
          "data": {
            "text/plain": [
              "\"\\nAuthor: Aditya Goel 400414715, MEST'21, McMaster University\\nSEP787: Machine Learning: Classification Models\\nAssignment 1 - Question 1\\nReferences: \\n1. Dr. Jeff Fortuna's SEP 787 Lecture Notes\\n2. https://scikit-learn.org/\\n\""
            ]
          },
          "execution_count": 194,
          "metadata": {},
          "output_type": "execute_result"
        }
      ],
      "source": [
        "\"\"\"\n",
        "Author: Aditya Goel 400414715, MEST'21, McMaster University\n",
        "SEP787: Machine Learning: Classification Models\n",
        "Assignment 1 - Question 1\n",
        "References: \n",
        "1. Dr. Jeff Fortuna's SEP 787 Lecture Notes\n",
        "2. https://scikit-learn.org/\n",
        "\"\"\"\n"
      ]
    },
    {
      "cell_type": "markdown",
      "metadata": {
        "id": "e-fqbrz4Qodj"
      },
      "source": [
        "**Import Libraries**"
      ]
    },
    {
      "cell_type": "code",
      "execution_count": 195,
      "metadata": {
        "id": "E_t4s-F5P1b5"
      },
      "outputs": [],
      "source": [
        "import numpy as np\n",
        "import pandas as pd\n",
        "import matplotlib.pyplot as plt\n",
        "from sklearn.metrics import accuracy_score, confusion_matrix, plot_confusion_matrix\n",
        "from sklearn.discriminant_analysis import LinearDiscriminantAnalysis"
      ]
    },
    {
      "cell_type": "markdown",
      "metadata": {
        "id": "MloQ5w9cQyJv"
      },
      "source": [
        "**Function to import dataset**"
      ]
    },
    {
      "cell_type": "code",
      "execution_count": 196,
      "metadata": {
        "id": "Elw8PAq8P3LV"
      },
      "outputs": [],
      "source": [
        "def import_dataset(file):\n",
        "  df = pd.read_csv(file, delimiter = \",\", header=None)\n",
        "  len_df = len(df)\n",
        "  class1 = df[df[2] == 1]                 #Dataset with label = 1\n",
        "  class2 = df[df[2] == 0]                 #Dataset with label = 0\n",
        "  X = df.iloc[:,:-1]                      #Data points\n",
        "  y = df[2]                               #Labels      \n",
        "\n",
        "  return [df, class1, class2, X, y]"
      ]
    },
    {
      "cell_type": "markdown",
      "metadata": {
        "id": "nG-3eHl2SCtj"
      },
      "source": [
        "# ***Prof's Method***"
      ]
    },
    {
      "cell_type": "markdown",
      "metadata": {
        "id": "I4lxNB4wSJFZ"
      },
      "source": [
        "**Function to obtain mean subtracted data**"
      ]
    },
    {
      "cell_type": "code",
      "execution_count": 197,
      "metadata": {
        "id": "ZZqQrP9eQXH-"
      },
      "outputs": [],
      "source": [
        "def mean_subtracted_matrix(data):\n",
        "  mean = np.mean(data, axis = 0)                                                #Mean of data points\n",
        "  mean_subtracted_data = data - mean                                            #Obtain mean subtracted data\n",
        "  data_submatrix = mean_subtracted_data.iloc[:,:-1]                             #Extract submatrix\n",
        "  return [data_submatrix, mean]"
      ]
    },
    {
      "cell_type": "markdown",
      "metadata": {
        "id": "_voOCKOzSOwW"
      },
      "source": [
        "**Function to obtain the Covariance Matrix**"
      ]
    },
    {
      "cell_type": "code",
      "execution_count": 198,
      "metadata": {
        "id": "FEfvcxH3QgQK"
      },
      "outputs": [],
      "source": [
        "def covariance(x):\n",
        "  s = np.dot(x.T,x)                                                             #Obtains Covariance Matrix\n",
        "  return s"
      ]
    },
    {
      "cell_type": "markdown",
      "metadata": {
        "id": "_R87a3NXIANT"
      },
      "source": [
        "**Function to obtain FLD**"
      ]
    },
    {
      "cell_type": "code",
      "execution_count": 199,
      "metadata": {
        "id": "PA-gbN8wIHBV"
      },
      "outputs": [],
      "source": [
        "def obtain_fld(w, threshold):\n",
        "  m = -w[0] / w[1]\n",
        "  b = -threshold/ w[1]\n",
        "  xx = np.linspace(-5, 10)\n",
        "  yy = m*xx + b                                                                 #Obtain FLD in the form y = mx + b\n",
        "  print(\"The slope of the FLD is: \", m)\n",
        "  print(\"The intercept of the FLD is: \", b)\n",
        "  print(\"The value of the threshold is: \", threshold)\n",
        "\n",
        "  return [m,b,xx,yy]"
      ]
    },
    {
      "cell_type": "markdown",
      "metadata": {
        "id": "BCUy2iTcWZiU"
      },
      "source": [
        "**Function to Plot FLD**"
      ]
    },
    {
      "cell_type": "code",
      "execution_count": 200,
      "metadata": {
        "id": "120W4ls3Vmf6"
      },
      "outputs": [],
      "source": [
        "def plot_fld(xx,yy):\n",
        "  plt.scatter(class1[0],class1[1], c = 'b', marker = '.')\n",
        "  plt.scatter(class2[0],class2[1], c = 'r', marker = '.')\n",
        "  plt.plot(xx, yy, 'k-')\n",
        "  plt.show()"
      ]
    },
    {
      "cell_type": "markdown",
      "metadata": {
        "id": "9sMPsXN_WpQT"
      },
      "source": [
        "**Function to calculate metric - Accuracy, Error and Confusion Matrix**"
      ]
    },
    {
      "cell_type": "code",
      "execution_count": 201,
      "metadata": {
        "id": "msggPtzAWWTT"
      },
      "outputs": [],
      "source": [
        "def obtain_metric(w, X, y, threshold):\n",
        "  predictions = (np.sign(np.dot(w,X.T) + threshold) + 1)/2\n",
        "  error = sum(predictions != y)\n",
        "  accuracy = 100*(len(df)-error)/len(df)\n",
        "  conf_matrix = confusion_matrix(y, predictions)\n",
        "  errorIndex = np.argwhere(pd.Series.to_numpy(predictions != y))  \n",
        "\n",
        "  return [accuracy, error, conf_matrix, errorIndex]"
      ]
    },
    {
      "cell_type": "markdown",
      "metadata": {
        "id": "Dijs-4GQIHl_"
      },
      "source": [
        "**Function to obtain optimum threshold**"
      ]
    },
    {
      "cell_type": "code",
      "execution_count": 202,
      "metadata": {
        "id": "3pQEJA9PQjWm"
      },
      "outputs": [],
      "source": [
        "def optimum_threshold(w, X, y):\n",
        "  threshold_list = np.arange(-0.1, 0.1, 0.0005)\n",
        "  accuracy_list = []\n",
        "  \n",
        "  for threshold in threshold_list:\n",
        "    [accuracy, error, conf_matrix, errorIndex] = obtain_metric(w, X, y, threshold)\n",
        "    accuracy_list.append(accuracy)\n",
        "    \n",
        "  plt.plot(threshold_list, accuracy_list)\n",
        "  plt.xlabel(\"Threshold\")\n",
        "  plt.ylabel(\"Accuracy\")\n",
        "  plt.show()\n",
        "  \n",
        "  index = accuracy_list.index(max(accuracy_list))\n",
        "  optimum_threshold = threshold_list[index]\n",
        "  print(\"Max accuracy is: \", max(accuracy_list))\n",
        "  print(\"Optimal threshold is: \", optimum_threshold)\n",
        "\n",
        "  return optimum_threshold"
      ]
    },
    {
      "cell_type": "markdown",
      "metadata": {
        "id": "9vXi5MH5Z2cT"
      },
      "source": [
        "**Function to Print Metrics**"
      ]
    },
    {
      "cell_type": "code",
      "execution_count": 203,
      "metadata": {
        "id": "YOr2pxRNZ6oA"
      },
      "outputs": [],
      "source": [
        "def print_metric(accuracy, error, conf_matrix, errorIndex):\n",
        "  print(\"\\nThe percentage of data that is classified incorrectly is: \\n\", error*100/len(df))\n",
        "  print(\"\\nThe confusion matrix is: \\n\", conf_matrix)\n",
        "  print(\"\\nNo. of misclassified data points whose actual class is 1 is: \", conf_matrix[1][0])\n",
        "  print(\"No. of misclassified data points whose actual class is 0 is: \", conf_matrix[0][1])\n",
        "  print(\"\\nAccuracy: \", accuracy)\n",
        "  print(\"\\nThe error Indices are: \", errorIndex.T)\n",
        "\n"
      ]
    },
    {
      "cell_type": "markdown",
      "metadata": {
        "id": "EnQ9FpSKTlRj"
      },
      "source": [
        "# **Main Function**"
      ]
    },
    {
      "cell_type": "code",
      "execution_count": 204,
      "metadata": {
        "colab": {
          "base_uri": "https://localhost:8080/",
          "height": 1000
        },
        "id": "NIUpPBubTorK",
        "outputId": "1da10197-ba94-459d-d0c2-a14087ddeab1"
      },
      "outputs": [
        {
          "name": "stdout",
          "output_type": "stream",
          "text": [
            "Weights are: [0.0010449  0.00242462]\n",
            "\n",
            "Results with threshold=0\n",
            "\n",
            "The slope of the FLD is:  -0.43095530423620576\n",
            "The intercept of the FLD is:  0.0\n",
            "The value of the threshold is:  0\n"
          ]
        },
        {
          "data": {
            "image/png": "[encoded data removed]",
            "text/plain": [
              "<Figure size 432x288 with 1 Axes>"
            ]
          },
          "metadata": {
            "needs_background": "light"
          },
          "output_type": "display_data"
        },
        {
          "name": "stdout",
          "output_type": "stream",
          "text": [
            "\n",
            "The percentage of data that is classified incorrectly is: \n",
            " 31.0\n",
            "\n",
            "The confusion matrix is: \n",
            " [[ 45 155]\n",
            " [  0 300]]\n",
            "\n",
            "No. of misclassified data points whose actual class is 1 is:  0\n",
            "No. of misclassified data points whose actual class is 0 is:  155\n",
            "\n",
            "Accuracy:  69.0\n",
            "\n",
            "The error Indices are:  [[300 302 303 304 305 306 307 308 309 310 312 313 315 316 318 319 320 321\n",
            "  322 324 325 326 327 328 329 330 331 332 333 334 335 337 340 341 342 343\n",
            "  346 347 348 349 351 352 353 356 357 358 359 360 361 364 366 368 369 370\n",
            "  371 372 373 374 378 379 380 383 384 386 387 389 390 391 392 393 397 398\n",
            "  399 400 401 402 403 404 406 407 408 410 411 412 413 415 417 418 419 420\n",
            "  421 422 423 424 425 426 428 429 430 432 435 436 437 438 439 440 441 442\n",
            "  444 445 447 448 449 450 451 453 454 455 457 458 459 460 461 462 463 464\n",
            "  465 466 467 468 469 470 471 472 473 474 475 476 477 478 479 481 482 484\n",
            "  485 486 490 492 493 494 495 496 497 498 499]]\n",
            "\n",
            "Calculating the optimum threshold\n",
            "\n"
          ]
        },
        {
          "data": {
            "image/png": "[encoded data removed]",
            "text/plain": [
              "<Figure size 432x288 with 1 Axes>"
            ]
          },
          "metadata": {
            "needs_background": "light"
          },
          "output_type": "display_data"
        },
        {
          "name": "stdout",
          "output_type": "stream",
          "text": [
            "Max accuracy is:  84.4\n",
            "Optimal threshold is:  -0.005499999999999922\n",
            "\n",
            "Results with optimum threshold\n",
            "\n",
            "The slope of the FLD is:  -0.43095530423620576\n",
            "The intercept of the FLD is:  2.268395919075229\n",
            "The value of the threshold is:  -0.005499999999999922\n"
          ]
        },
        {
          "data": {
            "image/png": "[encoded data removed]",
            "text/plain": [
              "<Figure size 432x288 with 1 Axes>"
            ]
          },
          "metadata": {
            "needs_background": "light"
          },
          "output_type": "display_data"
        },
        {
          "name": "stdout",
          "output_type": "stream",
          "text": [
            "\n",
            "The percentage of data that is classified incorrectly is: \n",
            " 15.6\n",
            "\n",
            "The confusion matrix is: \n",
            " [[145  55]\n",
            " [ 23 277]]\n",
            "\n",
            "No. of misclassified data points whose actual class is 1 is:  23\n",
            "No. of misclassified data points whose actual class is 0 is:  55\n",
            "\n",
            "Accuracy:  84.4\n",
            "\n",
            "The error Indices are:  [[ 31  33  34  53  70  75 113 117 119 129 136 142 148 151 162 220 223 257\n",
            "  261 275 276 291 296 300 304 310 315 327 330 333 337 340 346 352 353 358\n",
            "  372 373 374 378 379 384 389 391 398 400 403 411 418 419 420 423 424 425\n",
            "  426 428 432 436 440 444 454 455 457 458 462 465 467 468 471 473 474 478\n",
            "  481 484 485 494 495 498]]\n"
          ]
        }
      ],
      "source": [
        "[df, class1, class2, X, y] = import_dataset('fld.txt')                          #Import Dataset\n",
        "\n",
        "[x1mc, mean1] = mean_subtracted_matrix(class1)                                  #Calculate Mean subtracted data\n",
        "[x2mc, mean2] = mean_subtracted_matrix(class2)\n",
        "\n",
        "S1 = covariance(x1mc)                                                           #Calculate individual covariance matrix\n",
        "S2 = covariance(x2mc)\n",
        "\n",
        "Sw = S1+S2                                                                      #Calculate Combined Covariance matrix\n",
        "\n",
        "w = np.dot(np.linalg.inv(Sw), (mean1 - mean2)[0:2])                             #Obtain FLD line's weights\n",
        "print(\"Weights are:\", w)\n",
        "\n",
        "print(\"\\nResults with threshold=0\\n\")\n",
        "threshold = 0                                                                   #Results with threshold = 0\n",
        "[m,b,xx,yy] = obtain_fld(w, threshold)\n",
        "plot_fld(xx,yy)\n",
        "[accuracy, error, conf_matrix, errorIndex] = obtain_metric(w, X, y, threshold)\n",
        "print_metric(accuracy, error, conf_matrix, errorIndex)\n",
        "\n",
        "\n",
        "\n",
        "print(\"\\nCalculating the optimum threshold\\n\")\n",
        "optimum_threshold = optimum_threshold(w,X,y)                                    #Results with optimum threshold\n",
        "\n",
        "print(\"\\nResults with optimum threshold\\n\")\n",
        "[m,b,xx,yy] = obtain_fld(w, optimum_threshold)\n",
        "plot_fld(xx,yy)\n",
        "[accuracy, error, conf_matrix, errorIndex] = obtain_metric(w, X, y, optimum_threshold)\n",
        "print_metric(accuracy, error, conf_matrix, errorIndex)\n",
        "\n"
      ]
    },
    {
      "cell_type": "markdown",
      "metadata": {
        "id": "zDqX-QMSQ4-V"
      },
      "source": [
        "# **Sklearn Main Function**"
      ]
    },
    {
      "cell_type": "code",
      "execution_count": 205,
      "metadata": {
        "colab": {
          "base_uri": "https://localhost:8080/",
          "height": 912
        },
        "id": "nAwshw82QABI",
        "outputId": "de582dec-7333-4450-c140-28b3f8123d5b"
      },
      "outputs": [
        {
          "name": "stdout",
          "output_type": "stream",
          "text": [
            "Sklearn's weights are:  [0.5203618  1.20746117]\n",
            "\n",
            "Results with sklearn's threshold\n",
            "\n",
            "The slope of the FLD is:  -0.43095530423620587\n",
            "The intercept of the FLD is:  2.4462316943530653\n",
            "The value of the threshold is:  -2.953729794031932\n",
            "\n",
            "The error Indices are:  [[  5  28  31  33  34  52  53  70  75  78 113 117 119 129 134 136 142 148\n",
            "  151 162 209 220 223 233 257 261 275 276 291 296 300 304 310 327 330 333\n",
            "  337 340 346 352 353 358 372 373 374 378 379 384 389 391 398 400 403 411\n",
            "  418 419 420 423 425 428 432 436 440 454 455 457 458 462 465 467 471 473\n",
            "  474 478 481 484 485 494 495 498]]\n",
            "\n",
            "The percentage of data that is classified incorrectly is: \n",
            " 16.0\n",
            "\n",
            "The confusion matrix is: \n",
            " [[150  50]\n",
            " [ 30 270]]\n",
            "\n",
            "No. of misclassified data points whose actual class is 1 is:  30\n",
            "No. of misclassified data points whose actual class is 0 is:  50\n",
            "\n",
            "Accuracy:  84.0\n",
            "\n",
            "The error Indices are:  [[  5  28  31  33  34  52  53  70  75  78 113 117 119 129 134 136 142 148\n",
            "  151 162 209 220 223 233 257 261 275 276 291 296 300 304 310 327 330 333\n",
            "  337 340 346 352 353 358 372 373 374 378 379 384 389 391 398 400 403 411\n",
            "  418 419 420 423 425 428 432 436 440 454 455 457 458 462 465 467 471 473\n",
            "  474 478 481 484 485 494 495 498]]\n"
          ]
        },
        {
          "data": {
            "image/png": "[encoded data removed]",
            "text/plain": [
              "<Figure size 432x288 with 1 Axes>"
            ]
          },
          "metadata": {
            "needs_background": "light"
          },
          "output_type": "display_data"
        },
        {
          "data": {
            "text/plain": [
              "<sklearn.metrics._plot.confusion_matrix.ConfusionMatrixDisplay at 0x298f2dc2670>"
            ]
          },
          "execution_count": 205,
          "metadata": {},
          "output_type": "execute_result"
        },
        {
          "data": {
            "image/png": "[encoded data removed]",
            "text/plain": [
              "<Figure size 432x288 with 2 Axes>"
            ]
          },
          "metadata": {
            "needs_background": "light"
          },
          "output_type": "display_data"
        }
      ],
      "source": [
        "clf = LinearDiscriminantAnalysis()\n",
        "clf.fit(X, y)\n",
        "\n",
        "w = clf.coef_[0]                                                                #Returns the weights for the 2 axis (i.e w = [a b] in ax1 + bx2 + c = 0)\n",
        "c = clf.intercept_[0]                                                           #Returns the threshold (i.e c in ax1 + bx2 + c = 0)\n",
        "print(\"Sklearn's weights are: \", w)\n",
        "\n",
        "print(\"\\nResults with sklearn's threshold\\n\")\n",
        "[m,b,xx,yy] = obtain_fld(w, c)                                                  #Obtain FLD\n",
        "\n",
        "pred_y = clf.predict(X)                                                         #Obtain Metric    \n",
        "accuracy = accuracy_score(y,pred_y)*100\n",
        "error = (100-accuracy)*len(df)/100\n",
        "conf_matrix = confusion_matrix(y, pred_y)\n",
        "errorIndex = np.argwhere(pd.Series.to_numpy(pred_y != y))  \n",
        "print(\"\\nThe error Indices are: \", errorIndex.T)                                #Print incorrectly classified datapoints  \n",
        "print_metric(accuracy, error, conf_matrix, errorIndex)                          #Print Metric\n",
        "\n",
        "plot_fld(xx,yy)                                                                 #Plot Metric\n",
        "plot_confusion_matrix(clf, X, y)"
      ]
    }
  ],
  "metadata": {
    "colab": {
      "collapsed_sections": [],
      "name": "ML_a1_q1",
      "provenance": []
    },
    "kernelspec": {
      "display_name": "Python 3",
      "name": "python3"
    },
    "language_info": {
      "codemirror_mode": {
        "name": "ipython",
        "version": 3
      },
      "file_extension": ".py",
      "mimetype": "text/x-python",
      "name": "python",
      "nbconvert_exporter": "python",
      "pygments_lexer": "ipython3",
      "version": "3.8.8"
    }
  },
  "nbformat": 4,
  "nbformat_minor": 0
}
