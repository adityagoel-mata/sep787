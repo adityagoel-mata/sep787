{
  "nbformat": 4,
  "nbformat_minor": 0,
  "metadata": {
    "colab": {
      "name": "SEP787_Project_SVM.ipynb",
      "provenance": [],
      "collapsed_sections": []
    },
    "kernelspec": {
      "name": "python3",
      "display_name": "Python 3"
    },
    "language_info": {
      "name": "python"
    }
  },
  "cells": [
    {
      "cell_type": "markdown",
      "source": [
        "\n",
        "Authors: Nazanin Moshtagh 400046822 and Aditya Goel 400414715\n",
        "\n",
        "SEP787 Project: Machine Learning- Classification Models\n",
        "\n",
        "References: \n",
        "1. Dr. Jeff Fortuna's SEP 787 Lecture Notes\n",
        "2. https://scikit-learn.org/\n",
        "\n"
      ],
      "metadata": {
        "id": "fH7gtATA_11k"
      }
    },
    {
      "cell_type": "markdown",
      "source": [
        "##**Import Libraries**"
      ],
      "metadata": {
        "id": "OwEITkfOCei8"
      }
    },
    {
      "cell_type": "code",
      "execution_count": null,
      "metadata": {
        "id": "VMrHygJkRav7"
      },
      "outputs": [],
      "source": [
        "import time\n",
        "import numpy as np\n",
        "import pandas as pd\n",
        "import matplotlib.pyplot as plt\n",
        "from sklearn.model_selection import cross_validate\n",
        "from sklearn.model_selection import train_test_split, cross_val_score\n",
        "from sklearn.metrics import accuracy_score, confusion_matrix, roc_curve, ConfusionMatrixDisplay\n",
        "from sklearn.model_selection import train_test_split\n",
        "from sklearn import svm\n",
        "from sklearn.model_selection import GridSearchCV\n",
        "from sklearn.preprocessing import StandardScaler"
      ]
    },
    {
      "cell_type": "markdown",
      "source": [
        "##**Preparing the Dataset**"
      ],
      "metadata": {
        "id": "xw8msBCSDQrN"
      }
    },
    {
      "cell_type": "code",
      "source": [
        "def import_dataset(file):\n",
        "  df = pd.read_csv(file, delimiter = \";\", header=None)\n",
        "  len_df = len(df)\n",
        "  return df\n",
        "\n",
        "df = import_dataset(\"winequality-white.csv\")\n",
        "dataset = df.values\n",
        "\n",
        "labels = []\n",
        "data = []\n",
        "\n",
        "for i in range(len(dataset)):\n",
        "  data.append(dataset[i][0:11])\n",
        "  if dataset[i][11]>=6 :\n",
        "    labels.append(1)\n",
        "  if dataset[i][11]<=5 :\n",
        "    labels.append(0)\n",
        "\n",
        "data = np.array(data)\n",
        "labels = np.array(labels)"
      ],
      "metadata": {
        "id": "ybDijVOzRyQs"
      },
      "execution_count": null,
      "outputs": []
    },
    {
      "cell_type": "markdown",
      "source": [
        "##**Normalizing the data**"
      ],
      "metadata": {
        "id": "go-L2XJTKU_U"
      }
    },
    {
      "cell_type": "code",
      "source": [
        "scaler = StandardScaler()\n",
        "data = scaler.fit_transform(data)"
      ],
      "metadata": {
        "id": "bmMofIdjKUrK"
      },
      "execution_count": null,
      "outputs": []
    },
    {
      "cell_type": "markdown",
      "source": [
        "##**Splitting the Dataset**"
      ],
      "metadata": {
        "id": "Bj-fxxZ7Dl7Y"
      }
    },
    {
      "cell_type": "code",
      "source": [
        "# Split dataset into training set and test set\n",
        "X_train, X_test, y_train, y_test = train_test_split(data, labels, test_size=0.25) # 75% training and 25% test"
      ],
      "metadata": {
        "id": "WLRHygGADV3b"
      },
      "execution_count": null,
      "outputs": []
    },
    {
      "cell_type": "code",
      "source": [
        "def calc_time(data, start, end):\n",
        "  time = (end - start)\n",
        "  print(\"The Computational Time for \" +data+ \" the model (in s) = \", time)"
      ],
      "metadata": {
        "id": "S0jcDuayew_k"
      },
      "execution_count": null,
      "outputs": []
    },
    {
      "cell_type": "markdown",
      "source": [
        "##**ROC curve plot function**"
      ],
      "metadata": {
        "id": "NGSUrpDaAQ6Z"
      }
    },
    {
      "cell_type": "code",
      "source": [
        "def plot_roc2(y, probability):\n",
        "  \n",
        "  threshold_values = np.linspace(0,2,100)                                       #Range of threshold Values\n",
        "  FPR_array = []\n",
        "  TPR_array = []\n",
        "\n",
        "  for threshold in threshold_values:\n",
        "    y_pred = []\n",
        "\n",
        "    for p in probability:                                                       #For probability vector of every datapoint\n",
        "      if ((p[1])<threshold):                                                    \n",
        "        y_pred.append(0)                                                        #If predicted probability < threshold, classify as 0\n",
        "        continue\n",
        "      elif ((p[1])>=threshold): y_pred.append(1)                                #else 1\n",
        "\n",
        "    conf_matrix = confusion_matrix(y, y_pred)\n",
        "    TN = conf_matrix[0][0]                                                      #Obtain True Negative\n",
        "    FP = conf_matrix[0][1]                                                      #Obtain False Positive\n",
        "    FN = conf_matrix[1][0]                                                      #Obtain False Negative    \n",
        "    TP = conf_matrix[1][1]                                                      #Obtain True Positive\n",
        "\n",
        "    FPR = FP/(FP + TN)                                                          #Compute False Positive Rate\n",
        "    TPR = TP/(TP + FN)                                                          #Compute True Positive Rate\n",
        "\n",
        "    FPR_array.append(FPR)\n",
        "    TPR_array.append(TPR)\n",
        "\n",
        "  fig = plt.figure()\n",
        "  plt.plot(FPR_array, TPR_array, color= 'red')                                  #Plot ROC\n",
        "  plt.axis([0,1,0,1])\n",
        "  plt.ylabel('TPR')\n",
        "  plt.xlabel('FPR')\n",
        "  plt.title('ROC Curve')\n",
        "  plt.savefig('ROC')\n",
        "  plt.show()"
      ],
      "metadata": {
        "id": "zy3CoVN0ezyG"
      },
      "execution_count": null,
      "outputs": []
    },
    {
      "cell_type": "markdown",
      "source": [
        "##**Funcion for Confusion Matrix**"
      ],
      "metadata": {
        "id": "jockd4_I-bgM"
      }
    },
    {
      "cell_type": "code",
      "source": [
        "def calc_metric(data, actual, predicted):\n",
        "  conf_matrix = confusion_matrix(actual, predicted)                             #Confusion Matrix\n",
        "  accuracy = accuracy_score(actual, predicted)                                  #Accuracy\n",
        "  disp = ConfusionMatrixDisplay(confusion_matrix=conf_matrix)\n",
        "  disp.plot()\n",
        "  plt.show()\n",
        "\n",
        "  print('Results for '+data+' data\\n')\n",
        "  print('Confusion Matrix is:\\n', conf_matrix)\n",
        "  print('\\nAccuracy is:\\n', accuracy)"
      ],
      "metadata": {
        "id": "A9BkUCgme2Ry"
      },
      "execution_count": null,
      "outputs": []
    },
    {
      "cell_type": "markdown",
      "source": [
        "##**Cross Validation for parameter tunning and Training phase**"
      ],
      "metadata": {
        "id": "cbF97cCgw4p8"
      }
    },
    {
      "cell_type": "code",
      "source": [
        "start_time_train = time.time()\n",
        "param_grid = {'C': [0.01, 0.1, 10, 100],\n",
        "              'gamma': [0.01, 0.001],\n",
        "              'kernel': ['rbf']}\n",
        "\n",
        "svm_clf = GridSearchCV(svm.SVC(probability=True), param_grid, cv=4)\n",
        "svm_clf.fit(X_train, y_train)\n",
        "\n",
        "print(\"Best paramteres set found:\")\n",
        "print()\n",
        "print(svm_clf.best_params_)\n",
        "\n",
        "pred_y_train = svm_clf.predict(X_train)\n",
        "calc_metric('training', y_train, pred_y_train)\n",
        "probability = svm_clf.predict_proba(X_train)\n",
        "plot_roc2(y_train, probability)\n",
        "end_time_train = time.time()\n",
        "calc_time(\"training\",start_time_train, end_time_train) \n"
      ],
      "metadata": {
        "id": "UtCfCyjidg9X",
        "colab": {
          "base_uri": "https://localhost:8080/",
          "height": 778
        },
        "outputId": "f59669ea-17a5-411d-bc6c-514e74042d61"
      },
      "execution_count": null,
      "outputs": [
        {
          "output_type": "stream",
          "name": "stdout",
          "text": [
            "Best paramteres set found:\n",
            "\n",
            "{'C': 100, 'gamma': 0.01, 'kernel': 'rbf'}\n"
          ]
        },
        {
          "output_type": "display_data",
          "data": {
            "image/png": "[encoded data removed]",
            "text/plain": [
              "<Figure size 432x288 with 2 Axes>"
            ]
          },
          "metadata": {
            "needs_background": "light"
          }
        },
        {
          "output_type": "stream",
          "name": "stdout",
          "text": [
            "Results for training data\n",
            "\n",
            "Confusion Matrix is:\n",
            " [[ 745  486]\n",
            " [ 272 2170]]\n",
            "\n",
            "Accuracy is:\n",
            " 0.7936291859515383\n"
          ]
        },
        {
          "output_type": "display_data",
          "data": {
            "image/png": "[encoded data removed]",
            "text/plain": [
              "<Figure size 432x288 with 1 Axes>"
            ]
          },
          "metadata": {
            "needs_background": "light"
          }
        },
        {
          "output_type": "stream",
          "name": "stdout",
          "text": [
            "The Computational Time for training the model (in s) =  63.982067346572876\n"
          ]
        }
      ]
    },
    {
      "cell_type": "markdown",
      "source": [
        "##**Testing phase**"
      ],
      "metadata": {
        "id": "9YRVqrL1ezjD"
      }
    },
    {
      "cell_type": "code",
      "source": [
        "start_time_test = time.time()\n",
        "pred_y_test = svm_clf.predict(X_test)\n",
        "calc_metric('test', y_test, pred_y_test)\n",
        "probability = svm_clf.predict_proba(X_test)\n",
        "plot_roc2(y_test, probability)\n",
        "end_time_test = time.time()\n",
        "calc_time(\"testing\",start_time_test, end_time_test) "
      ],
      "metadata": {
        "id": "6DJCQFZ-TGMJ",
        "colab": {
          "base_uri": "https://localhost:8080/",
          "height": 723
        },
        "outputId": "85e7f273-4984-4cb4-c95e-2936c6315e11"
      },
      "execution_count": null,
      "outputs": [
        {
          "output_type": "display_data",
          "data": {
            "image/png": "[encoded data removed]",
            "text/plain": [
              "<Figure size 432x288 with 2 Axes>"
            ]
          },
          "metadata": {
            "needs_background": "light"
          }
        },
        {
          "output_type": "stream",
          "name": "stdout",
          "text": [
            "Results for test data\n",
            "\n",
            "Confusion Matrix is:\n",
            " [[231 178]\n",
            " [101 715]]\n",
            "\n",
            "Accuracy is:\n",
            " 0.7722448979591837\n"
          ]
        },
        {
          "output_type": "display_data",
          "data": {
            "image/png": "[encoded data removed]",
            "text/plain": [
              "<Figure size 432x288 with 1 Axes>"
            ]
          },
          "metadata": {
            "needs_background": "light"
          }
        },
        {
          "output_type": "stream",
          "name": "stdout",
          "text": [
            "The Computational Time for testing the model (in s) =  0.8708887100219727\n"
          ]
        }
      ]
    }
  ]
}