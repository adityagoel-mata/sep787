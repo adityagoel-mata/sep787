{
  "nbformat": 4,
  "nbformat_minor": 0,
  "metadata": {
    "colab": {
      "name": "SEP787_Project_NB",
      "provenance": []
    },
    "kernelspec": {
      "name": "python3",
      "display_name": "Python 3"
    },
    "language_info": {
      "name": "python"
    }
  },
  "cells": [
    {
      "cell_type": "markdown",
      "source": [
        "\n",
        "Authors: Nazanin Moshtagh 400046822 and Aditya Goel 400414715\n",
        "\n",
        "SEP787 Project: Machine Learning- Classification Models\n",
        "\n",
        "References: \n",
        "1. Dr. Jeff Fortuna's SEP 787 Lecture Notes\n",
        "2. https://scikit-learn.org/\n"
      ],
      "metadata": {
        "id": "L5ppxxJtIxQ6"
      }
    },
    {
      "cell_type": "markdown",
      "source": [
        "# **NB**"
      ],
      "metadata": {
        "id": "qA7zAbLEEM-Y"
      }
    },
    {
      "cell_type": "markdown",
      "source": [
        "##**Import Libraries**"
      ],
      "metadata": {
        "id": "6kjj_R8nqwEw"
      }
    },
    {
      "cell_type": "code",
      "source": [
        "import time\n",
        "import numpy as np\n",
        "import pandas as pd\n",
        "import matplotlib.pyplot as plt\n",
        "from sklearn.naive_bayes import GaussianNB\n",
        "from sklearn.metrics import confusion_matrix, accuracy_score, ConfusionMatrixDisplay\n",
        "from sklearn.model_selection import train_test_split, cross_validate, cross_val_score\n",
        "import warnings\n",
        "warnings.filterwarnings('ignore')"
      ],
      "metadata": {
        "id": "im4Gnbg-qzp9"
      },
      "execution_count": null,
      "outputs": []
    },
    {
      "cell_type": "markdown",
      "source": [
        "##**Function to import Dataset**"
      ],
      "metadata": {
        "id": "Kq0aTlEkqoDY"
      }
    },
    {
      "cell_type": "code",
      "source": [
        "def import_dataset(file):\n",
        "  df = pd.read_csv(file, delimiter = \";\", header=None)\n",
        "  return df"
      ],
      "metadata": {
        "id": "Enksd1aGqnuk"
      },
      "execution_count": null,
      "outputs": []
    },
    {
      "cell_type": "markdown",
      "source": [
        "##**Function to convert Multi-Class data into Binary-Class data**"
      ],
      "metadata": {
        "id": "w4OuF7FMRSwT"
      }
    },
    {
      "cell_type": "code",
      "source": [
        "def convert_to_binary(dataset):\n",
        "  for i in range(len(dataset)):\n",
        "    if(dataset[11][i]<=5):                                                      #For values between [0,5], class = 0\n",
        "      dataset[11][i]=0\n",
        "      continue\n",
        "    if(dataset[11][i]>=6):                                                      #For values between [6,10], class = 1      \n",
        "      dataset[11][i]=1\n",
        "\n",
        "  return dataset"
      ],
      "metadata": {
        "id": "m8uyFlG9EmEK"
      },
      "execution_count": null,
      "outputs": []
    },
    {
      "cell_type": "markdown",
      "source": [
        "##**Function to Normalise Data**"
      ],
      "metadata": {
        "id": "xGH7ra4MnblH"
      }
    },
    {
      "cell_type": "code",
      "source": [
        "def pre_process(df):\n",
        "  df.iloc[:,0:-1] = df.iloc[:,0:-1].apply(lambda x: (x-x.mean())/ x.std(), axis=0)\n",
        "  return df"
      ],
      "metadata": {
        "id": "JpzY7auEne99"
      },
      "execution_count": null,
      "outputs": []
    },
    {
      "cell_type": "markdown",
      "source": [
        "##**Function to split data into Training and Test sets**"
      ],
      "metadata": {
        "id": "i9ox2PAvSiNJ"
      }
    },
    {
      "cell_type": "code",
      "source": [
        "def split_data(dataset):\n",
        "  X = dataset.iloc[:,:-1]\n",
        "  y = dataset[11]\n",
        "  X_train, X_test, actual_y_train, actual_y_test = train_test_split(X,y,train_size=0.75)\n",
        "  return [X, y, X_train, X_test, actual_y_train, actual_y_test]"
      ],
      "metadata": {
        "id": "n0gq3eaFIFhP"
      },
      "execution_count": null,
      "outputs": []
    },
    {
      "cell_type": "markdown",
      "source": [
        "##**Function to calculate metric**"
      ],
      "metadata": {
        "id": "ZqBqv8uFr-KM"
      }
    },
    {
      "cell_type": "code",
      "source": [
        "def calc_metric(data, actual, predicted):\n",
        "  conf_matrix = confusion_matrix(actual, predicted)                             #Confusion Matrix\n",
        "  accuracy = accuracy_score(actual, predicted)                                  #Accuracy\n",
        "  disp = ConfusionMatrixDisplay(confusion_matrix=conf_matrix)\n",
        "  disp.plot()\n",
        "  plt.show()\n",
        "\n",
        "\n",
        "  print('Results for '+data+' data\\n')\n",
        "  print('Confusion Matrix is:\\n', conf_matrix)\n",
        "  print('\\nAccuracy is:\\n', accuracy)"
      ],
      "metadata": {
        "id": "9aZYiKbgsAql"
      },
      "execution_count": null,
      "outputs": []
    },
    {
      "cell_type": "markdown",
      "source": [
        "##**Function to Manually Plot ROC**"
      ],
      "metadata": {
        "id": "GKB5XM9uM2WB"
      }
    },
    {
      "cell_type": "code",
      "source": [
        "def plot_roc2(y, probability):\n",
        "  \n",
        "  threshold_values = np.linspace(0,1,100)                                       #Range of threshold Values\n",
        "  FPR_array = []\n",
        "  TPR_array = []\n",
        "\n",
        "  for threshold in threshold_values:\n",
        "    y_pred = []\n",
        "\n",
        "    for p in probability:                                                       #For probability vector of every datapoint\n",
        "      if ((p[1])<threshold):                                                    \n",
        "        y_pred.append(0)                                                        #If predicted probability < threshold, classify as 0\n",
        "        continue\n",
        "      elif ((p[1])>=threshold): y_pred.append(1)                                #else 1\n",
        "\n",
        "    conf_matrix = confusion_matrix(y, y_pred)\n",
        "    TN = conf_matrix[0][0]                                                      #Obtain True Negative\n",
        "    FP = conf_matrix[0][1]                                                      #Obtain False Positive\n",
        "    FN = conf_matrix[1][0]                                                      #Obtain False Negative    \n",
        "    TP = conf_matrix[1][1]                                                      #Obtain True Positive\n",
        "\n",
        "    FPR = FP/(FP + TN)                                                          #Compute False Positive Rate\n",
        "    TPR = TP/(TP + FN)                                                          #Compute True Positive Rate\n",
        "\n",
        "    FPR_array.append(FPR)\n",
        "    TPR_array.append(TPR)\n",
        "\n",
        "  fig = plt.figure()\n",
        "  plt.plot(FPR_array, TPR_array, color= 'red')                                  #Plot ROC\n",
        "  plt.axis([0,1,0,1])\n",
        "  plt.ylabel('TPR')\n",
        "  plt.xlabel('FPR')\n",
        "  plt.title('ROC Curve')\n",
        "  plt.savefig('ROC')\n",
        "  plt.show()"
      ],
      "metadata": {
        "id": "5DBY5IuoM6Nu"
      },
      "execution_count": null,
      "outputs": []
    },
    {
      "cell_type": "markdown",
      "source": [
        "##**Function to Evaluate Time**"
      ],
      "metadata": {
        "id": "E0wnL_1VjX0A"
      }
    },
    {
      "cell_type": "code",
      "source": [
        "def calc_time(data, start, end):\n",
        "  time = (end - start)\n",
        "  print(\"The Computational Time for \" +data+ \" the model (in s) = \", time)"
      ],
      "metadata": {
        "id": "NNsJUwtdja-Q"
      },
      "execution_count": null,
      "outputs": []
    },
    {
      "cell_type": "markdown",
      "source": [
        "# **Main Function**"
      ],
      "metadata": {
        "id": "fhVS9a0oZNJa"
      }
    },
    {
      "cell_type": "markdown",
      "source": [
        "###**Data Preparation**"
      ],
      "metadata": {
        "id": "3HIDHNxiZ25m"
      }
    },
    {
      "cell_type": "code",
      "source": [
        "df = import_dataset(\"winequality-white.csv\")                                    #Import Dataset\n",
        "df = convert_to_binary(df)                                                      #Convert multivariate dataset to a binary dataset\n",
        "df = pre_process(df)                                                            #Normalise Dataset  \n",
        "[X, y, X_train, X_test, y_train, y_test] = split_data(df)                       #Split the dataset into training and test set"
      ],
      "metadata": {
        "id": "mG88b41WZQUf"
      },
      "execution_count": null,
      "outputs": []
    },
    {
      "cell_type": "markdown",
      "source": [
        "###**Training Phase**"
      ],
      "metadata": {
        "id": "Ex9XNswuZ7RP"
      }
    },
    {
      "cell_type": "code",
      "source": [
        "start_time_train = time.time()                                                  #start time\n",
        "\n",
        "nb_clf = GaussianNB()                                                           #applying NB model\n",
        "nb_clf.fit(X_train, y_train)                                                    #Fit the model\n",
        "\n",
        "pred_y_train = nb_clf.predict(X_train)                                          #Predict for training set\n",
        "calc_metric('training', y_train, pred_y_train)                                  #Compute Accuracy and Confusion\n",
        "\n",
        "probability = nb_clf.predict_proba(X_train) \n",
        "plot_roc2(y_train, probability)                                                 #Manual ROC Curve\n",
        "\n",
        "end_time_train = time.time()                                                    #end time\n",
        "calc_time(\"Training\",start_time_train, end_time_train)                          #Computational Time for Training"
      ],
      "metadata": {
        "colab": {
          "base_uri": "https://localhost:8080/",
          "height": 713
        },
        "id": "qw-25loOZ9mf",
        "outputId": "19ecf10d-9a17-4570-bcba-a477123846ef"
      },
      "execution_count": null,
      "outputs": [
        {
          "output_type": "display_data",
          "data": {
            "image/png": "[encoded data removed]",
            "text/plain": [
              "<Figure size 432x288 with 2 Axes>"
            ]
          },
          "metadata": {
            "needs_background": "light"
          }
        },
        {
          "output_type": "stream",
          "name": "stdout",
          "text": [
            "Results for training data\n",
            "\n",
            "Confusion Matrix is:\n",
            " [[ 702  530]\n",
            " [ 567 1874]]\n",
            "\n",
            "Accuracy is:\n",
            " 0.7013340593520283\n"
          ]
        },
        {
          "output_type": "display_data",
          "data": {
            "image/png": "[encoded data removed]",
            "text/plain": [
              "<Figure size 432x288 with 1 Axes>"
            ]
          },
          "metadata": {
            "needs_background": "light"
          }
        },
        {
          "output_type": "stream",
          "name": "stdout",
          "text": [
            "The Computational Time for Training the model (in s) =  0.8995721340179443\n"
          ]
        }
      ]
    },
    {
      "cell_type": "markdown",
      "source": [
        "###**Testing Phase**"
      ],
      "metadata": {
        "id": "T25DkIZXaNHI"
      }
    },
    {
      "cell_type": "code",
      "source": [
        "start_time_test = time.time()                                                   #start time\n",
        "\n",
        "pred_y_test = nb_clf.predict(X_test)                                            #Predict for test set\n",
        "calc_metric('test', y_test, pred_y_test)                                        #Compute Accuracy and Confusion\n",
        "\n",
        "probability = nb_clf.predict_proba(X_test)\n",
        "plot_roc2(y_test, probability)                                                  #Manual ROC Curve\n",
        "\n",
        "end_time_test = time.time()                                                     #end time\n",
        "calc_time(\"Testing\", start_time_test, end_time_test)                            #Computational Time for Testing"
      ],
      "metadata": {
        "colab": {
          "base_uri": "https://localhost:8080/",
          "height": 713
        },
        "id": "khwgaDb4aOy9",
        "outputId": "d276d009-1d73-4b23-b593-7264714beb6e"
      },
      "execution_count": null,
      "outputs": [
        {
          "output_type": "display_data",
          "data": {
            "image/png": "[encoded data removed]",
            "text/plain": [
              "<Figure size 432x288 with 2 Axes>"
            ]
          },
          "metadata": {
            "needs_background": "light"
          }
        },
        {
          "output_type": "stream",
          "name": "stdout",
          "text": [
            "Results for test data\n",
            "\n",
            "Confusion Matrix is:\n",
            " [[247 161]\n",
            " [200 617]]\n",
            "\n",
            "Accuracy is:\n",
            " 0.7053061224489796\n"
          ]
        },
        {
          "output_type": "display_data",
          "data": {
            "image/png": "[encoded data removed]",
            "text/plain": [
              "<Figure size 432x288 with 1 Axes>"
            ]
          },
          "metadata": {
            "needs_background": "light"
          }
        },
        {
          "output_type": "stream",
          "name": "stdout",
          "text": [
            "The Computational Time for Testing the model (in s) =  0.5893056392669678\n"
          ]
        }
      ]
    }
  ]
}